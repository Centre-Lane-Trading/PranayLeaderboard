{
 "cells": [
  {
   "cell_type": "code",
   "execution_count": 1,
   "metadata": {},
   "outputs": [
    {
     "name": "stdout",
     "output_type": "stream",
     "text": [
      "Collecting polars-lts-cpu==0.20.16\n",
      "  Downloading polars_lts_cpu-0.20.16-cp38-abi3-win_amd64.whl (26.2 MB)\n",
      "Installing collected packages: polars-lts-cpu\n",
      "Successfully installed polars-lts-cpu-0.20.16\n"
     ]
    },
    {
     "name": "stderr",
     "output_type": "stream",
     "text": [
      "WARNING: You are using pip version 21.2.4; however, version 24.3.1 is available.\n",
      "You should consider upgrading via the 'C:\\Users\\Administrator\\AppData\\Local\\Programs\\Python\\Python39\\python.exe -m pip install --upgrade pip' command.\n"
     ]
    }
   ],
   "source": [
    "!pip install polars-lts-cpu==0.20.16"
   ]
  },
  {
   "cell_type": "code",
   "execution_count": 4,
   "metadata": {},
   "outputs": [],
   "source": [
    "from logic import Leaderboard\n",
    "board = Leaderboard()"
   ]
  },
  {
   "cell_type": "code",
   "execution_count": 5,
   "metadata": {},
   "outputs": [
    {
     "data": {
      "text/html": [
       "<div><style>\n",
       ".dataframe > thead > tr,\n",
       ".dataframe > tbody > tr {\n",
       "  text-align: right;\n",
       "  white-space: pre-wrap;\n",
       "}\n",
       "</style>\n",
       "<small>shape: (3, 4)</small><table border=\"1\" class=\"dataframe\"><thead><tr><th>policy</th><th>PnL</th><th>per MWh</th><th>win %</th></tr><tr><td>str</td><td>f64</td><td>f64</td><td>f64</td></tr></thead><tbody><tr><td>&quot;PJMvirts Capta…</td><td>789370.056282</td><td>11.158751</td><td>99.939214</td></tr><tr><td>&quot;PJMvirts Price…</td><td>29195.540069</td><td>0.399632</td><td>33.667324</td></tr><tr><td>&quot;PJMvirts Price…</td><td>-65746.461082</td><td>-0.899946</td><td>63.3076</td></tr></tbody></table></div>"
      ],
      "text/plain": [
       "shape: (3, 4)\n",
       "┌────────────────────────────┬───────────────┬───────────┬───────────┐\n",
       "│ policy                     ┆ PnL           ┆ per MWh   ┆ win %     │\n",
       "│ ---                        ┆ ---           ┆ ---       ┆ ---       │\n",
       "│ str                        ┆ f64           ┆ f64       ┆ f64       │\n",
       "╞════════════════════════════╪═══════════════╪═══════════╪═══════════╡\n",
       "│ PJMvirts Captain Hindsight ┆ 789370.056282 ┆ 11.158751 ┆ 99.939214 │\n",
       "│ PJMvirts Pricetaker Long   ┆ 29195.540069  ┆ 0.399632  ┆ 33.667324 │\n",
       "│ PJMvirts Pricetaker Short  ┆ -65746.461082 ┆ -0.899946 ┆ 63.3076   │\n",
       "└────────────────────────────┴───────────────┴───────────┴───────────┘"
      ]
     },
     "execution_count": 5,
     "metadata": {},
     "output_type": "execute_result"
    }
   ],
   "source": [
    "board.summarize()"
   ]
  },
  {
   "cell_type": "markdown",
   "metadata": {},
   "source": []
  },
  {
   "cell_type": "code",
   "execution_count": 7,
   "metadata": {},
   "outputs": [
    {
     "data": {
      "text/plain": [
       "['policy',\n",
       " 'node',\n",
       " 'date',\n",
       " 'profit_total',\n",
       " 'mwh_total',\n",
       " 'profit_long',\n",
       " 'mwh_long',\n",
       " 'profit_short',\n",
       " 'mwh_short',\n",
       " 'win_count_long',\n",
       " 'win_count_short',\n",
       " 'loss_count_long',\n",
       " 'loss_count_short']"
      ]
     },
     "execution_count": 7,
     "metadata": {},
     "output_type": "execute_result"
    }
   ],
   "source": [
    "board.original.columns"
   ]
  },
  {
   "cell_type": "code",
   "execution_count": 4,
   "metadata": {},
   "outputs": [
    {
     "ename": "TypeError",
     "evalue": "set_topn() missing 1 required positional argument: 'n'",
     "output_type": "error",
     "traceback": [
      "\u001b[1;31m---------------------------------------------------------------------------\u001b[0m",
      "\u001b[1;31mTypeError\u001b[0m                                 Traceback (most recent call last)",
      "Cell \u001b[1;32mIn[4], line 1\u001b[0m\n\u001b[1;32m----> 1\u001b[0m \u001b[43mboard\u001b[49m\u001b[38;5;241;43m.\u001b[39;49m\u001b[43mset_topn\u001b[49m\u001b[43m(\u001b[49m\u001b[43m)\u001b[49m\n",
      "\u001b[1;31mTypeError\u001b[0m: set_topn() missing 1 required positional argument: 'n'"
     ]
    }
   ],
   "source": [
    "board.set_topn()"
   ]
  }
 ],
 "metadata": {
  "kernelspec": {
   "display_name": "Python 3",
   "language": "python",
   "name": "python3"
  },
  "language_info": {
   "codemirror_mode": {
    "name": "ipython",
    "version": 3
   },
   "file_extension": ".py",
   "mimetype": "text/x-python",
   "name": "python",
   "nbconvert_exporter": "python",
   "pygments_lexer": "ipython3",
   "version": "3.9.10"
  }
 },
 "nbformat": 4,
 "nbformat_minor": 2
}
